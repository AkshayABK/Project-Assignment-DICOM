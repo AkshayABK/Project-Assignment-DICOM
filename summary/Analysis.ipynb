{
 "cells": [
  {
   "cell_type": "code",
   "execution_count": 1,
   "id": "c7564c23",
   "metadata": {},
   "outputs": [],
   "source": [
    "import pandas\n",
    "import io\n",
    "import os\n",
    "import sys"
   ]
  },
  {
   "cell_type": "code",
   "execution_count": 2,
   "id": "5641119b",
   "metadata": {},
   "outputs": [],
   "source": [
    "try:\n",
    "    current_directory = os.getcwd()\n",
    "    \n",
    "    utils_directory = os.path.abspath(os.path.join(current_directory, '../utils'))\n",
    "    sys.path.append(utils_directory)\n",
    "    import config\n",
    "    \n",
    "    script_directory = os.path.abspath(os.path.join(current_directory, '../script'))\n",
    "    sys.path.append(script_directory)\n",
    "    from summary_script import *\n",
    "    \n",
    "except Exception as e:\n",
    "    print(f\"Error importing source folder path or utils path {e}\")\n",
    "    "
   ]
  },
  {
   "cell_type": "markdown",
   "id": "eb9f51a5",
   "metadata": {},
   "source": [
    "#### Script is developed to generate dataframe in script folder called summary_script.py there we can add more columns and generate summary"
   ]
  },
  {
   "cell_type": "code",
   "execution_count": 5,
   "id": "ce592706",
   "metadata": {},
   "outputs": [
    {
     "data": {
      "text/html": [
       "<div>\n",
       "<style scoped>\n",
       "    .dataframe tbody tr th:only-of-type {\n",
       "        vertical-align: middle;\n",
       "    }\n",
       "\n",
       "    .dataframe tbody tr th {\n",
       "        vertical-align: top;\n",
       "    }\n",
       "\n",
       "    .dataframe thead th {\n",
       "        text-align: right;\n",
       "    }\n",
       "</style>\n",
       "<table border=\"1\" class=\"dataframe\">\n",
       "  <thead>\n",
       "    <tr style=\"text-align: right;\">\n",
       "      <th></th>\n",
       "      <th>Metric</th>\n",
       "      <th>Value</th>\n",
       "    </tr>\n",
       "  </thead>\n",
       "  <tbody>\n",
       "    <tr>\n",
       "      <th>0</th>\n",
       "      <td>Total Studies</td>\n",
       "      <td>1</td>\n",
       "    </tr>\n",
       "    <tr>\n",
       "      <th>1</th>\n",
       "      <td>Total Slices</td>\n",
       "      <td>63</td>\n",
       "    </tr>\n",
       "    <tr>\n",
       "      <th>2</th>\n",
       "      <td>Average Slices per Study</td>\n",
       "      <td>62.0</td>\n",
       "    </tr>\n",
       "    <tr>\n",
       "      <th>3</th>\n",
       "      <td>Slice Thickness Distribution</td>\n",
       "      <td>{2.0: 63}</td>\n",
       "    </tr>\n",
       "  </tbody>\n",
       "</table>\n",
       "</div>"
      ],
      "text/plain": [
       "                         Metric      Value\n",
       "0                 Total Studies          1\n",
       "1                  Total Slices         63\n",
       "2      Average Slices per Study       62.0\n",
       "3  Slice Thickness Distribution  {2.0: 63}"
      ]
     },
     "metadata": {},
     "output_type": "display_data"
    }
   ],
   "source": [
    "root_folder = config.transformed_file_location \n",
    "\n",
    "consolidated_df = process_csv_folders(root_folder)\n",
    "\n",
    "if not consolidated_df.empty:\n",
    "    \n",
    "    summary = generate_summary_from_dataframe(consolidated_df)\n",
    "    \n",
    "    display(summary)"
   ]
  },
  {
   "cell_type": "code",
   "execution_count": null,
   "id": "f3688adf",
   "metadata": {},
   "outputs": [],
   "source": []
  }
 ],
 "metadata": {
  "kernelspec": {
   "display_name": "Python 3 (ipykernel)",
   "language": "python",
   "name": "python3"
  },
  "language_info": {
   "codemirror_mode": {
    "name": "ipython",
    "version": 3
   },
   "file_extension": ".py",
   "mimetype": "text/x-python",
   "name": "python",
   "nbconvert_exporter": "python",
   "pygments_lexer": "ipython3",
   "version": "3.9.13"
  }
 },
 "nbformat": 4,
 "nbformat_minor": 5
}
